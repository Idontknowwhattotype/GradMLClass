{
  "cells": [
    {
      "cell_type": "markdown",
      "metadata": {
        "id": "3yjJWZ_BRn4i"
      },
      "source": [
        "# LAB 1-3\n",
        "\n",
        "\n",
        "## The Distribution of First Digits\n",
        "\n",
        "In this lab, you will explore the distribution of first digits in real data. For example, the first digits of the numbers 52, 30.8, and 0.07 are 5, 3, and 7 respectively. In this lab, you will investigate the question: how frequently does each digit 1-9 appear as the first digit of the number?\n",
        "\n",
        "## Question 0\n",
        "\n",
        "Make a prediction. (Don't worry about being wrong. You will earn full credit for any justified answer.)\n",
        "\n",
        "1. Approximately what percentage of the values do you think will have a _first_ digit of 1? What percentage of the values do you think will have a first digit of 9?\n",
        " * The percentage of values will have a first digit of 1 and 9 because there are 9 numbers so (1/9)*100 = 11.1%\n",
        "2. Approximately what percentage of the values do you think will have a _last_ digit of 1? What percentage of the values do you think will have a last digit of 9?\n",
        "*The percentages of values that will have last digit of of 1 and 9 would is 11.1% because it could end between values 1-9 so 1/9*100 = 11.1%.\n",
        "\n",
        "In this case, you can consider any random data set or all data in all of existence or a single particular dataset (like the S&P 500 dataset we'll examine later in the lab). Any one of those should be fine as there's no wrong answer for this question, as indicated above, and it's just a way to guide and see your thinking.\n",
        "\n",
        "**ENTER YOUR WRITTEN EXPLANATION HERE.**\n",
        "\n",
        "## Question 1\n",
        "\n",
        "The [S&P 500](https://en.wikipedia.org/wiki/S%26P_500_Index) is a stock index based on the market capitalizations of large companies that are publicly traded on the NYSE or NASDAQ. The [CSV file](https://raw.githubusercontent.com/dlsun/pods/master/data/sp500.csv) contains data from February 1, 2018 about the stocks that comprise the S&P 500. We will investigate the first digit distributions of the variables in this data set.\n",
        "\n",
        "Read in the S&P 500 data. What is the unit of observation in this data set? Is there a variable that is natural to use as the index? If so, set that variable to be the index. Once you are done, display the `DataFrame`.\n",
        "\n",
        "*The unit of obersevation would be the stock per day.\n",
        "*A variable that is natural to use as the index would be to combine the date and name.\n"
      ]
    },
    {
      "cell_type": "code",
      "source": [
        "from google.colab import drive\n",
        "drive.mount('/content/drive')"
      ],
      "metadata": {
        "colab": {
          "base_uri": "https://localhost:8080/"
        },
        "id": "xaz8Kry8T6eR",
        "outputId": "6623a846-951a-43f2-a6c0-ea46e42137f6"
      },
      "execution_count": null,
      "outputs": [
        {
          "output_type": "stream",
          "name": "stdout",
          "text": [
            "Drive already mounted at /content/drive; to attempt to forcibly remount, call drive.mount(\"/content/drive\", force_remount=True).\n"
          ]
        }
      ]
    },
    {
      "cell_type": "code",
      "execution_count": null,
      "metadata": {
        "colab": {
          "base_uri": "https://localhost:8080/",
          "height": 238
        },
        "id": "lLOaBbbsRn4l",
        "outputId": "e7f23b97-2225-40cb-d11a-11662a40b7c0"
      },
      "outputs": [
        {
          "output_type": "execute_result",
          "data": {
            "text/plain": [
              "                   open   close    volume\n",
              "date       Name                          \n",
              "2018-02-01 AAL    54.00   53.88   3623078\n",
              "           AAPL  167.16  167.78  47230787\n",
              "           AAP   116.24  117.29    760629\n",
              "           ABBV  112.24  116.34   9943452\n",
              "           ABC    97.74   99.29   2786798"
            ],
            "text/html": [
              "\n",
              "  <div id=\"df-0600fc0a-1699-4ee8-b6e3-b6a43a17d213\" class=\"colab-df-container\">\n",
              "    <div>\n",
              "<style scoped>\n",
              "    .dataframe tbody tr th:only-of-type {\n",
              "        vertical-align: middle;\n",
              "    }\n",
              "\n",
              "    .dataframe tbody tr th {\n",
              "        vertical-align: top;\n",
              "    }\n",
              "\n",
              "    .dataframe thead th {\n",
              "        text-align: right;\n",
              "    }\n",
              "</style>\n",
              "<table border=\"1\" class=\"dataframe\">\n",
              "  <thead>\n",
              "    <tr style=\"text-align: right;\">\n",
              "      <th></th>\n",
              "      <th></th>\n",
              "      <th>open</th>\n",
              "      <th>close</th>\n",
              "      <th>volume</th>\n",
              "    </tr>\n",
              "    <tr>\n",
              "      <th>date</th>\n",
              "      <th>Name</th>\n",
              "      <th></th>\n",
              "      <th></th>\n",
              "      <th></th>\n",
              "    </tr>\n",
              "  </thead>\n",
              "  <tbody>\n",
              "    <tr>\n",
              "      <th rowspan=\"5\" valign=\"top\">2018-02-01</th>\n",
              "      <th>AAL</th>\n",
              "      <td>54.00</td>\n",
              "      <td>53.88</td>\n",
              "      <td>3623078</td>\n",
              "    </tr>\n",
              "    <tr>\n",
              "      <th>AAPL</th>\n",
              "      <td>167.16</td>\n",
              "      <td>167.78</td>\n",
              "      <td>47230787</td>\n",
              "    </tr>\n",
              "    <tr>\n",
              "      <th>AAP</th>\n",
              "      <td>116.24</td>\n",
              "      <td>117.29</td>\n",
              "      <td>760629</td>\n",
              "    </tr>\n",
              "    <tr>\n",
              "      <th>ABBV</th>\n",
              "      <td>112.24</td>\n",
              "      <td>116.34</td>\n",
              "      <td>9943452</td>\n",
              "    </tr>\n",
              "    <tr>\n",
              "      <th>ABC</th>\n",
              "      <td>97.74</td>\n",
              "      <td>99.29</td>\n",
              "      <td>2786798</td>\n",
              "    </tr>\n",
              "  </tbody>\n",
              "</table>\n",
              "</div>\n",
              "    <div class=\"colab-df-buttons\">\n",
              "\n",
              "  <div class=\"colab-df-container\">\n",
              "    <button class=\"colab-df-convert\" onclick=\"convertToInteractive('df-0600fc0a-1699-4ee8-b6e3-b6a43a17d213')\"\n",
              "            title=\"Convert this dataframe to an interactive table.\"\n",
              "            style=\"display:none;\">\n",
              "\n",
              "  <svg xmlns=\"http://www.w3.org/2000/svg\" height=\"24px\" viewBox=\"0 -960 960 960\">\n",
              "    <path d=\"M120-120v-720h720v720H120Zm60-500h600v-160H180v160Zm220 220h160v-160H400v160Zm0 220h160v-160H400v160ZM180-400h160v-160H180v160Zm440 0h160v-160H620v160ZM180-180h160v-160H180v160Zm440 0h160v-160H620v160Z\"/>\n",
              "  </svg>\n",
              "    </button>\n",
              "\n",
              "  <style>\n",
              "    .colab-df-container {\n",
              "      display:flex;\n",
              "      gap: 12px;\n",
              "    }\n",
              "\n",
              "    .colab-df-convert {\n",
              "      background-color: #E8F0FE;\n",
              "      border: none;\n",
              "      border-radius: 50%;\n",
              "      cursor: pointer;\n",
              "      display: none;\n",
              "      fill: #1967D2;\n",
              "      height: 32px;\n",
              "      padding: 0 0 0 0;\n",
              "      width: 32px;\n",
              "    }\n",
              "\n",
              "    .colab-df-convert:hover {\n",
              "      background-color: #E2EBFA;\n",
              "      box-shadow: 0px 1px 2px rgba(60, 64, 67, 0.3), 0px 1px 3px 1px rgba(60, 64, 67, 0.15);\n",
              "      fill: #174EA6;\n",
              "    }\n",
              "\n",
              "    .colab-df-buttons div {\n",
              "      margin-bottom: 4px;\n",
              "    }\n",
              "\n",
              "    [theme=dark] .colab-df-convert {\n",
              "      background-color: #3B4455;\n",
              "      fill: #D2E3FC;\n",
              "    }\n",
              "\n",
              "    [theme=dark] .colab-df-convert:hover {\n",
              "      background-color: #434B5C;\n",
              "      box-shadow: 0px 1px 3px 1px rgba(0, 0, 0, 0.15);\n",
              "      filter: drop-shadow(0px 1px 2px rgba(0, 0, 0, 0.3));\n",
              "      fill: #FFFFFF;\n",
              "    }\n",
              "  </style>\n",
              "\n",
              "    <script>\n",
              "      const buttonEl =\n",
              "        document.querySelector('#df-0600fc0a-1699-4ee8-b6e3-b6a43a17d213 button.colab-df-convert');\n",
              "      buttonEl.style.display =\n",
              "        google.colab.kernel.accessAllowed ? 'block' : 'none';\n",
              "\n",
              "      async function convertToInteractive(key) {\n",
              "        const element = document.querySelector('#df-0600fc0a-1699-4ee8-b6e3-b6a43a17d213');\n",
              "        const dataTable =\n",
              "          await google.colab.kernel.invokeFunction('convertToInteractive',\n",
              "                                                    [key], {});\n",
              "        if (!dataTable) return;\n",
              "\n",
              "        const docLinkHtml = 'Like what you see? Visit the ' +\n",
              "          '<a target=\"_blank\" href=https://colab.research.google.com/notebooks/data_table.ipynb>data table notebook</a>'\n",
              "          + ' to learn more about interactive tables.';\n",
              "        element.innerHTML = '';\n",
              "        dataTable['output_type'] = 'display_data';\n",
              "        await google.colab.output.renderOutput(dataTable, element);\n",
              "        const docLink = document.createElement('div');\n",
              "        docLink.innerHTML = docLinkHtml;\n",
              "        element.appendChild(docLink);\n",
              "      }\n",
              "    </script>\n",
              "  </div>\n",
              "\n",
              "\n",
              "<div id=\"df-d0307bb1-826d-4d64-9084-318fbb9631c7\">\n",
              "  <button class=\"colab-df-quickchart\" onclick=\"quickchart('df-d0307bb1-826d-4d64-9084-318fbb9631c7')\"\n",
              "            title=\"Suggest charts\"\n",
              "            style=\"display:none;\">\n",
              "\n",
              "<svg xmlns=\"http://www.w3.org/2000/svg\" height=\"24px\"viewBox=\"0 0 24 24\"\n",
              "     width=\"24px\">\n",
              "    <g>\n",
              "        <path d=\"M19 3H5c-1.1 0-2 .9-2 2v14c0 1.1.9 2 2 2h14c1.1 0 2-.9 2-2V5c0-1.1-.9-2-2-2zM9 17H7v-7h2v7zm4 0h-2V7h2v10zm4 0h-2v-4h2v4z\"/>\n",
              "    </g>\n",
              "</svg>\n",
              "  </button>\n",
              "\n",
              "<style>\n",
              "  .colab-df-quickchart {\n",
              "      --bg-color: #E8F0FE;\n",
              "      --fill-color: #1967D2;\n",
              "      --hover-bg-color: #E2EBFA;\n",
              "      --hover-fill-color: #174EA6;\n",
              "      --disabled-fill-color: #AAA;\n",
              "      --disabled-bg-color: #DDD;\n",
              "  }\n",
              "\n",
              "  [theme=dark] .colab-df-quickchart {\n",
              "      --bg-color: #3B4455;\n",
              "      --fill-color: #D2E3FC;\n",
              "      --hover-bg-color: #434B5C;\n",
              "      --hover-fill-color: #FFFFFF;\n",
              "      --disabled-bg-color: #3B4455;\n",
              "      --disabled-fill-color: #666;\n",
              "  }\n",
              "\n",
              "  .colab-df-quickchart {\n",
              "    background-color: var(--bg-color);\n",
              "    border: none;\n",
              "    border-radius: 50%;\n",
              "    cursor: pointer;\n",
              "    display: none;\n",
              "    fill: var(--fill-color);\n",
              "    height: 32px;\n",
              "    padding: 0;\n",
              "    width: 32px;\n",
              "  }\n",
              "\n",
              "  .colab-df-quickchart:hover {\n",
              "    background-color: var(--hover-bg-color);\n",
              "    box-shadow: 0 1px 2px rgba(60, 64, 67, 0.3), 0 1px 3px 1px rgba(60, 64, 67, 0.15);\n",
              "    fill: var(--button-hover-fill-color);\n",
              "  }\n",
              "\n",
              "  .colab-df-quickchart-complete:disabled,\n",
              "  .colab-df-quickchart-complete:disabled:hover {\n",
              "    background-color: var(--disabled-bg-color);\n",
              "    fill: var(--disabled-fill-color);\n",
              "    box-shadow: none;\n",
              "  }\n",
              "\n",
              "  .colab-df-spinner {\n",
              "    border: 2px solid var(--fill-color);\n",
              "    border-color: transparent;\n",
              "    border-bottom-color: var(--fill-color);\n",
              "    animation:\n",
              "      spin 1s steps(1) infinite;\n",
              "  }\n",
              "\n",
              "  @keyframes spin {\n",
              "    0% {\n",
              "      border-color: transparent;\n",
              "      border-bottom-color: var(--fill-color);\n",
              "      border-left-color: var(--fill-color);\n",
              "    }\n",
              "    20% {\n",
              "      border-color: transparent;\n",
              "      border-left-color: var(--fill-color);\n",
              "      border-top-color: var(--fill-color);\n",
              "    }\n",
              "    30% {\n",
              "      border-color: transparent;\n",
              "      border-left-color: var(--fill-color);\n",
              "      border-top-color: var(--fill-color);\n",
              "      border-right-color: var(--fill-color);\n",
              "    }\n",
              "    40% {\n",
              "      border-color: transparent;\n",
              "      border-right-color: var(--fill-color);\n",
              "      border-top-color: var(--fill-color);\n",
              "    }\n",
              "    60% {\n",
              "      border-color: transparent;\n",
              "      border-right-color: var(--fill-color);\n",
              "    }\n",
              "    80% {\n",
              "      border-color: transparent;\n",
              "      border-right-color: var(--fill-color);\n",
              "      border-bottom-color: var(--fill-color);\n",
              "    }\n",
              "    90% {\n",
              "      border-color: transparent;\n",
              "      border-bottom-color: var(--fill-color);\n",
              "    }\n",
              "  }\n",
              "</style>\n",
              "\n",
              "  <script>\n",
              "    async function quickchart(key) {\n",
              "      const quickchartButtonEl =\n",
              "        document.querySelector('#' + key + ' button');\n",
              "      quickchartButtonEl.disabled = true;  // To prevent multiple clicks.\n",
              "      quickchartButtonEl.classList.add('colab-df-spinner');\n",
              "      try {\n",
              "        const charts = await google.colab.kernel.invokeFunction(\n",
              "            'suggestCharts', [key], {});\n",
              "      } catch (error) {\n",
              "        console.error('Error during call to suggestCharts:', error);\n",
              "      }\n",
              "      quickchartButtonEl.classList.remove('colab-df-spinner');\n",
              "      quickchartButtonEl.classList.add('colab-df-quickchart-complete');\n",
              "    }\n",
              "    (() => {\n",
              "      let quickchartButtonEl =\n",
              "        document.querySelector('#df-d0307bb1-826d-4d64-9084-318fbb9631c7 button');\n",
              "      quickchartButtonEl.style.display =\n",
              "        google.colab.kernel.accessAllowed ? 'block' : 'none';\n",
              "    })();\n",
              "  </script>\n",
              "</div>\n",
              "\n",
              "    </div>\n",
              "  </div>\n"
            ],
            "application/vnd.google.colaboratory.intrinsic+json": {
              "type": "dataframe",
              "variable_name": "df",
              "summary": "{\n  \"name\": \"df\",\n  \"rows\": 505,\n  \"fields\": [\n    {\n      \"column\": \"open\",\n      \"properties\": {\n        \"dtype\": \"number\",\n        \"std\": 146.45949674174867,\n        \"min\": 3.49,\n        \"max\": 1903.99,\n        \"num_unique_values\": 495,\n        \"samples\": [\n          126.78,\n          214.49,\n          69.77\n        ],\n        \"semantic_type\": \"\",\n        \"description\": \"\"\n      }\n    },\n    {\n      \"column\": \"close\",\n      \"properties\": {\n        \"dtype\": \"number\",\n        \"std\": 145.61480620195394,\n        \"min\": 3.46,\n        \"max\": 1903.69,\n        \"num_unique_values\": 498,\n        \"samples\": [\n          44.81,\n          62.8,\n          23.3\n        ],\n        \"semantic_type\": \"\",\n        \"description\": \"\"\n      }\n    },\n    {\n      \"column\": \"volume\",\n      \"properties\": {\n        \"dtype\": \"number\",\n        \"std\": 8185253,\n        \"min\": 150920,\n        \"max\": 67543333,\n        \"num_unique_values\": 505,\n        \"samples\": [\n          1619851,\n          5466974,\n          6416095\n        ],\n        \"semantic_type\": \"\",\n        \"description\": \"\"\n      }\n    }\n  ]\n}"
            }
          },
          "metadata": {},
          "execution_count": 6
        }
      ],
      "source": [
        "## YOUR CODE HERE\n",
        "import pandas as pd\n",
        "\n",
        "df = pd.read_csv(r\"/content/drive/MyDrive/Colab Notebooks/ML Class/Week 11/sp500.csv\")\n",
        "#print(df)\n",
        "df['open'] = df['open'].replace('[\\$,]', '', regex=True).astype(float) #Getting rid of money size and converting to float\n",
        "df['close'] = df['close'].replace('[\\$,]', '', regex=True).astype(float) #Getting rid of money size and converting to float.\n",
        "df.set_index(['date', 'Name'], inplace=True) #Combining\n",
        "df.head()"
      ]
    },
    {
      "cell_type": "markdown",
      "metadata": {
        "id": "jmpQaQgNRn4m"
      },
      "source": [
        "**ENTER YOUR WRITTEN EXPLANATION HERE.**\n",
        "\n",
        "## Question 2\n",
        "\n",
        "We will start by looking at the `volume` column. This variable tells us how many shares were traded on that date.\n",
        "\n",
        "Extract the first digit of every value in this column. (_Hint:_ First, turn the numbers into strings. Then, use the [text processing functionalities](https://pandas.pydata.org/pandas-docs/stable/text.html) of `pandas` to extract the first character of each string.) Make an appropriate visualization to display the distribution of the first digits. (_Hint:_ Think carefully about whether the variable you are plotting is quantitative or categorical.)\n",
        "\n",
        "How does this compare with what you predicted in Question 0?\n",
        "*This does not match with my predicted in question 0. The number 1 has a higher frequency then almost all the other numbers."
      ]
    },
    {
      "cell_type": "code",
      "execution_count": null,
      "metadata": {
        "colab": {
          "base_uri": "https://localhost:8080/",
          "height": 484
        },
        "id": "BQRDQRo7Rn4n",
        "outputId": "4bd576db-61f2-4201-a539-e0d74bb1c91c"
      },
      "outputs": [
        {
          "output_type": "execute_result",
          "data": {
            "text/plain": [
              "Text(0, 0.5, 'Frequency')"
            ]
          },
          "metadata": {},
          "execution_count": 15
        },
        {
          "output_type": "display_data",
          "data": {
            "text/plain": [
              "<Figure size 640x480 with 1 Axes>"
            ],
            "image/png": "[encoded data removed]"
          },
          "metadata": {}
        }
      ],
      "source": [
        "## YOUR CODE HERE\n",
        "\n",
        "import matplotlib.pyplot as plt\n",
        "\n",
        "first_digit = df['volume'].astype(str).str[0]\n",
        "first_digit.value_counts().sort_index().plot(kind='bar', color='skyblue', edgecolor='black')\n",
        "plt.title(\"Distribution of the first digit\")\n",
        "plt.xlabel(\"First Digit\", rotation=0)\n",
        "plt.ylabel(\"Frequency\")\n"
      ]
    },
    {
      "cell_type": "markdown",
      "metadata": {
        "id": "xri1lu2hRn4o"
      },
      "source": [
        "**ENTER YOUR WRITTEN EXPLANATION HERE.**\n",
        "\n",
        "## Question 3\n",
        "\n",
        "Now, repeat Question 2, but for the distribution of _last_ digits. Again, make an appropriate visualization and compare with your prediction in Question 0.\n",
        "\n",
        "*This is a more accurate result compared to question 0 where it shows an even distribution"
      ]
    },
    {
      "cell_type": "code",
      "execution_count": null,
      "metadata": {
        "colab": {
          "base_uri": "https://localhost:8080/",
          "height": 484
        },
        "id": "M4umcH2LRn4o",
        "outputId": "1a33b276-80e6-4283-f61d-4ac6b4668fdd"
      },
      "outputs": [
        {
          "output_type": "execute_result",
          "data": {
            "text/plain": [
              "Text(0, 0.5, 'Frequency')"
            ]
          },
          "metadata": {},
          "execution_count": 17
        },
        {
          "output_type": "display_data",
          "data": {
            "text/plain": [
              "<Figure size 640x480 with 1 Axes>"
            ],
            "image/png": "[encoded data removed]"
          },
          "metadata": {}
        }
      ],
      "source": [
        "## YOUR CODE HERE\n",
        "import matplotlib.pyplot as plt\n",
        "\n",
        "first_digit = df['volume'].astype(str).str[-1]\n",
        "first_digit.value_counts().sort_index().plot(kind='bar', color='skyblue', edgecolor='black')\n",
        "plt.title(\"Distribution of the last digit\")\n",
        "plt.xlabel(\"Last Digit\", rotation=0)\n",
        "plt.ylabel(\"Frequency\")\n"
      ]
    },
    {
      "cell_type": "markdown",
      "metadata": {
        "id": "AO7fX26uRn4p"
      },
      "source": [
        "**ENTER YOUR WRITTEN EXPLANATION HERE.**\n",
        "\n",
        "## Question 4\n",
        "\n",
        "Maybe the `volume` column was just a fluke. Let's see if the first digit distribution holds up when we look at a very different variable: the closing price of the stock. Make a visualization of the first digit distribution of the closing price (the `close` column of the `DataFrame`). Comment on what you see.\n",
        "\n",
        "(_Hint:_ What type did `pandas` infer this variable as and why? You will have to first clean the values using the [text processing functionalities](https://pandas.pydata.org/pandas-docs/stable/text.html) of `pandas` and then convert this variable to a quantitative variable.)\n",
        "\n",
        "*Here we can see that the number 1 has the highest frequency compared to all the other digits while digits 2-9 appear at an even frequency. However for the last digits all numbers are equally likely to appear."
      ]
    },
    {
      "cell_type": "code",
      "execution_count": null,
      "metadata": {
        "colab": {
          "base_uri": "https://localhost:8080/",
          "height": 934
        },
        "id": "OK6FdnNlRn4p",
        "outputId": "832bd6b1-8cea-4582-a467-c2a7b74d2558"
      },
      "outputs": [
        {
          "output_type": "display_data",
          "data": {
            "text/plain": [
              "<Figure size 640x480 with 1 Axes>"
            ],
            "image/png": "[encoded data removed]"
          },
          "metadata": {}
        },
        {
          "output_type": "execute_result",
          "data": {
            "text/plain": [
              "Text(0, 0.5, 'Frequency')"
            ]
          },
          "metadata": {},
          "execution_count": 18
        },
        {
          "output_type": "display_data",
          "data": {
            "text/plain": [
              "<Figure size 640x480 with 1 Axes>"
            ],
            "image/png": "[encoded data removed]"
          },
          "metadata": {}
        }
      ],
      "source": [
        "## YOUR CODE HERE\n",
        "import matplotlib.pyplot as plt\n",
        "\n",
        "first_digit = df['close'].astype(str).str[0]\n",
        "first_digit.value_counts().sort_index().plot(kind='bar', color='skyblue', edgecolor='black')\n",
        "plt.title(\"Distribution of the first digit\")\n",
        "plt.xlabel(\"Last Digit\", rotation=0)\n",
        "plt.ylabel(\"Frequency\")\n",
        "plt.show()\n",
        "\n",
        "\n",
        "last_digit = df['close'].astype(str).str[-1]\n",
        "last_digit.value_counts().sort_index().plot(kind='bar', color='skyblue', edgecolor='black')\n",
        "plt.title(\"Distribution of the last digit\")\n",
        "plt.xlabel(\"Last Digit\", rotation=0)\n",
        "plt.ylabel(\"Frequency\")"
      ]
    },
    {
      "cell_type": "markdown",
      "metadata": {
        "id": "NugAQ2Z4Rn4q"
      },
      "source": [
        "**ENTER YOUR WRITTEN EXPLANATION HERE.**"
      ]
    },
    {
      "cell_type": "markdown",
      "metadata": {
        "id": "HGpjxmKVRn4r"
      },
      "source": [
        "# Submission Instructions\n",
        "\n",
        "Once you have filled out the Colab notebook completely, you are ready to submit. Your final submission will consist of the `.ipynb` and the `.pdf` files, as described below:\n",
        "\n",
        "1. Download the Google Colab notebook as an iPython notebook\n",
        "   * You can do this by going to *File \\> Download .ipynb*\n",
        "2. Print out a PDF of your Colab notebook.\n",
        "   * In Google Chrome, you can do this by going to *File \\> Print* and then choosing *Save to PDF*.\n",
        "   * **Make sure you have run all cells first.**\n",
        "   * Ensure you've closed the table of contents sidebar before you print so we can easily see your work and output.\n",
        "3. Submit **both** the `.ipynb` notebook and the `.pdf` files via Blackboard or directly via the cloud using the Google Integration with Blackboard (if applicable).\n",
        "\n",
        "---"
      ]
    }
  ],
  "metadata": {
    "language_info": {
      "name": "python"
    },
    "colab": {
      "provenance": []
    },
    "kernelspec": {
      "name": "python3",
      "display_name": "Python 3"
    }
  },
  "nbformat": 4,
  "nbformat_minor": 0
}